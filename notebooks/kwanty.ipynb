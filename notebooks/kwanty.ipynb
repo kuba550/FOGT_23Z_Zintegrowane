{
 "cells": [
  {
   "cell_type": "code",
   "execution_count": 1,
   "id": "initial_id",
   "metadata": {
    "collapsed": true,
    "ExecuteTime": {
     "end_time": "2024-02-07T17:51:28.928702600Z",
     "start_time": "2024-02-07T17:51:28.414226200Z"
    }
   },
   "outputs": [],
   "source": [
    "import sympy as sp\n",
    "import numpy as np"
   ]
  },
  {
   "cell_type": "code",
   "execution_count": 2,
   "outputs": [],
   "source": [
    "sp.init_printing()"
   ],
   "metadata": {
    "collapsed": false,
    "ExecuteTime": {
     "end_time": "2024-02-07T17:51:28.941257500Z",
     "start_time": "2024-02-07T17:51:28.927702400Z"
    }
   },
   "id": "d4b9b6b36eda28ef"
  },
  {
   "cell_type": "code",
   "execution_count": 3,
   "outputs": [
    {
     "data": {
      "text/plain": "(x, k, a, m, t, h̅, n, ψ(x))",
      "image/png": "[encoded data removed]",
      "text/latex": "$\\displaystyle \\left( x, \\  k, \\  a, \\  m, \\  t, \\  \\hbar, \\  n, \\  \\psi{\\left(x \\right)}\\right)$"
     },
     "execution_count": 3,
     "metadata": {},
     "output_type": "execute_result"
    }
   ],
   "source": [
    "x = sp.Symbol('x', real=True)\n",
    "k = sp.Symbol('k', real=True, positive=True)\n",
    "a = sp.Symbol('a', real=True)\n",
    "m = sp.Symbol('m', real=True, positive=True)\n",
    "t = sp.Symbol('t', real=True, positive=True)\n",
    "h = sp.Symbol('hbar', real=True, positive=True)\n",
    "n = sp.Symbol('n', integer=True, nonzero=True)\n",
    "psi = sp.Function('psi')\n",
    "\n",
    "x, k, a, m, t, h, n, psi(x)"
   ],
   "metadata": {
    "collapsed": false,
    "ExecuteTime": {
     "end_time": "2024-02-07T17:51:30.791594200Z",
     "start_time": "2024-02-07T17:51:28.945746700Z"
    }
   },
   "id": "23e03aea94631624"
  },
  {
   "cell_type": "markdown",
   "source": [
    "$$\\frac{d^2\\psi(x)}{dx^2} = -k^2\\psi(x)$$"
   ],
   "metadata": {
    "collapsed": false
   },
   "id": "a0eaefaff28a35a0"
  },
  {
   "cell_type": "code",
   "execution_count": 4,
   "outputs": [
    {
     "data": {
      "text/plain": "  2                 \n d            2     \n───(ψ(x)) = -k ⋅ψ(x)\n  2                 \ndx                  ",
      "image/png": "[encoded data removed]",
      "text/latex": "$\\displaystyle \\frac{d^{2}}{d x^{2}} \\psi{\\left(x \\right)} = - k^{2} \\psi{\\left(x \\right)}$"
     },
     "execution_count": 4,
     "metadata": {},
     "output_type": "execute_result"
    }
   ],
   "source": [
    "eq = sp.Eq(psi(x).diff(x, x), -k**2 * psi(x))\n",
    "eq"
   ],
   "metadata": {
    "collapsed": false,
    "ExecuteTime": {
     "end_time": "2024-02-07T17:51:32.055470200Z",
     "start_time": "2024-02-07T17:51:30.791594200Z"
    }
   },
   "id": "b2c495873f57c4b2"
  },
  {
   "cell_type": "code",
   "execution_count": 5,
   "outputs": [
    {
     "data": {
      "text/plain": "              ___           \n             ╱ 1     ⎛π⋅n⋅x⎞\nψ(x) = √2⋅  ╱  ─ ⋅sin⎜─────⎟\n          ╲╱   a     ⎝  a  ⎠",
      "image/png": "[encoded data removed]",
      "text/latex": "$\\displaystyle \\psi{\\left(x \\right)} = \\sqrt{2} \\sqrt{\\frac{1}{a}} \\sin{\\left(\\frac{\\pi n x}{a} \\right)}$"
     },
     "execution_count": 5,
     "metadata": {},
     "output_type": "execute_result"
    }
   ],
   "source": [
    "sol = sp.dsolve(eq, psi(x), ics={psi(0): 0})\n",
    "sol = sol.subs(k, n * sp.pi / a)\n",
    "sol = sol.subs(sp.Symbol('C1'), sp.sqrt(2 / a))\n",
    "sol"
   ],
   "metadata": {
    "collapsed": false,
    "ExecuteTime": {
     "end_time": "2024-02-07T17:51:33.370164400Z",
     "start_time": "2024-02-07T17:51:32.060430Z"
    }
   },
   "id": "70a7741f4215da3"
  },
  {
   "cell_type": "markdown",
   "source": [],
   "metadata": {
    "collapsed": false
   },
   "id": "64ffc39c42b5069d"
  },
  {
   "cell_type": "markdown",
   "source": [
    "$$<\\omega>=\\int \\Psi^{*} \\hat{\\omega} \\Psi\\ dx$$"
   ],
   "metadata": {
    "collapsed": false
   },
   "id": "af0773258718ecb5"
  },
  {
   "cell_type": "markdown",
   "source": [
    "$$<p>=?$$\n",
    "$$<p^2>=?$$\n",
    "$$\\sigma_P^2=?$$\n",
    "\n",
    "$$\\sigma_X \\sigma_P \\geq \\frac{\\hbar}{2}$$\n",
    "\n",
    "## **Zadanie**\n",
    "Spradzić, czy ta zasada nieoznaczoności jest faktycznie dla tej studni potencjału spełniona."
   ],
   "metadata": {
    "collapsed": false
   },
   "id": "658af05c0bb5021b"
  },
  {
   "cell_type": "markdown",
   "source": [
    "## **Rozwiązanie**\n",
    "**Położenie**\n",
    "\n",
    "$$<x>=?$$\n",
    "$$<x^2>=?$$\n",
    "$$\\sigma_X=?$$\n",
    "$$\\sigma_X^2=?$$"
   ],
   "metadata": {
    "collapsed": false
   },
   "id": "a56509c89c6d7143"
  },
  {
   "cell_type": "code",
   "execution_count": 6,
   "outputs": [
    {
     "data": {
      "text/plain": "⎛                       ______________              ⎞\n⎜    2       2         ╱  2       2      2       2  ⎟\n⎜a  a       a         ╱  a       a      a       a   ⎟\n⎜─, ── - ───────,    ╱   ── - ─────── , ── - ───────⎟\n⎜2  3       2  2    ╱    12      2  2   12      2  2⎟\n⎝        2⋅π ⋅n   ╲╱          2⋅π ⋅n         2⋅π ⋅n ⎠",
      "image/png": "[encoded data removed]",
      "text/latex": "$\\displaystyle \\left( \\frac{a}{2}, \\  \\frac{a^{2}}{3} - \\frac{a^{2}}{2 \\pi^{2} n^{2}}, \\  \\sqrt{\\frac{a^{2}}{12} - \\frac{a^{2}}{2 \\pi^{2} n^{2}}}, \\  \\frac{a^{2}}{12} - \\frac{a^{2}}{2 \\pi^{2} n^{2}}\\right)$"
     },
     "execution_count": 6,
     "metadata": {},
     "output_type": "execute_result"
    }
   ],
   "source": [
    "X = sp.integrate(sol.rhs * x * sol.rhs, (x, 0, a)).simplify()\n",
    "Xsquared = sp.integrate(sol.rhs * x**2 * sol.rhs, (x, 0, a)).simplify()\n",
    "sigmaXsquared = Xsquared-X**2\n",
    "sigmaX = sp.sqrt(sigmaXsquared)\n",
    "\n",
    "X, Xsquared, sigmaX, sigmaXsquared"
   ],
   "metadata": {
    "collapsed": false,
    "ExecuteTime": {
     "end_time": "2024-02-07T17:51:34.994384Z",
     "start_time": "2024-02-07T17:51:33.373701700Z"
    }
   },
   "id": "175bf585367b71da"
  },
  {
   "cell_type": "markdown",
   "source": [
    "**Pęd**\n",
    "\n",
    "$$<p>=?$$\n",
    "$$<p^2>=?$$\n",
    "$$\\sigma_P=?$$\n",
    "$$\\sigma_P^2=?$$"
   ],
   "metadata": {
    "collapsed": false
   },
   "id": "afeed7bc020f1cdf"
  },
  {
   "cell_type": "code",
   "execution_count": 7,
   "outputs": [
    {
     "data": {
      "text/plain": "⎛    2  2  2            2  2  2⎞\n⎜   π ⋅h̅ ⋅n       │n│  π ⋅h̅ ⋅n ⎟\n⎜0, ────────, π⋅h̅⋅│─│, ────────⎟\n⎜       2         │a│      2   ⎟\n⎝      a                  a    ⎠",
      "image/png": "[encoded data removed]",
      "text/latex": "$\\displaystyle \\left( 0, \\  \\frac{\\pi^{2} \\hbar^{2} n^{2}}{a^{2}}, \\  \\pi \\hbar \\left|{\\frac{n}{a}}\\right|, \\  \\frac{\\pi^{2} \\hbar^{2} n^{2}}{a^{2}}\\right)$"
     },
     "execution_count": 7,
     "metadata": {},
     "output_type": "execute_result"
    }
   ],
   "source": [
    "P = sp.integrate(sol.rhs*-h*sp.I*sol.rhs.diff(x),(x,0,a)).simplify()\n",
    "Psquared = sp.integrate(sol.rhs * (sol.rhs).diff(x,x)*-h**2, (x, 0, a)).simplify()\n",
    "sigmaPsquared = Psquared-P**2\n",
    "sigmaP = sp.sqrt(sigmaPsquared).simplify()\n",
    "\n",
    "P, Psquared, sigmaP, sigmaPsquared"
   ],
   "metadata": {
    "collapsed": false,
    "ExecuteTime": {
     "end_time": "2024-02-07T17:51:36.425204400Z",
     "start_time": "2024-02-07T17:51:34.998208100Z"
    }
   },
   "id": "67a053e21fbb25df"
  },
  {
   "cell_type": "markdown",
   "source": [
    "### **Sprawdzenie nierówności**\n",
    "\n",
    "$$\\sigma_X \\sigma_P \\geq \\frac{\\hbar}{2}$$"
   ],
   "metadata": {
    "collapsed": false
   },
   "id": "2502064400d94421"
  },
  {
   "cell_type": "code",
   "execution_count": 8,
   "outputs": [
    {
     "data": {
      "text/plain": "     ______________\n    ╱    2  2      \nh̅⋅╲╱  3⋅π ⋅n  - 18 \n───────────────────\n         6         ",
      "image/png": "[encoded data removed]",
      "text/latex": "$\\displaystyle \\frac{\\hbar \\sqrt{3 \\pi^{2} n^{2} - 18}}{6}$"
     },
     "execution_count": 8,
     "metadata": {},
     "output_type": "execute_result"
    }
   ],
   "source": [
    "check = sigmaP*sigmaX\n",
    "check.simplify()"
   ],
   "metadata": {
    "collapsed": false,
    "ExecuteTime": {
     "end_time": "2024-02-07T17:51:37.832793700Z",
     "start_time": "2024-02-07T17:51:36.409677100Z"
    }
   },
   "id": "40d47aade8f39265"
  },
  {
   "cell_type": "markdown",
   "source": [
    "**Dla n=1:**"
   ],
   "metadata": {
    "collapsed": false
   },
   "id": "78c493960b67f76b"
  },
  {
   "cell_type": "code",
   "execution_count": 9,
   "outputs": [
    {
     "data": {
      "text/plain": "(0.567861808386612⋅h̅, 0.5⋅h̅, True)",
      "image/png": "[encoded data removed]",
      "text/latex": "$\\displaystyle \\left( 0.567861808386612 \\hbar, \\  0.5 \\hbar, \\  \\text{True}\\right)$"
     },
     "execution_count": 9,
     "metadata": {},
     "output_type": "execute_result"
    }
   ],
   "source": [
    "res1 = h*np.sqrt(3*np.pi**2-18)/6\n",
    "res2 = h/2\n",
    "\n",
    "res1, res2.evalf(), res1 > res2.evalf()"
   ],
   "metadata": {
    "collapsed": false,
    "ExecuteTime": {
     "end_time": "2024-02-07T17:51:39.170248700Z",
     "start_time": "2024-02-07T17:51:37.836227700Z"
    }
   },
   "id": "614bd818ba12e5af"
  },
  {
   "cell_type": "markdown",
   "source": [
    "#### **Zasada nieoznaczoności jest spełniona dla najmniejszego możliwego n, zatem jest zawsze spełniona**"
   ],
   "metadata": {
    "collapsed": false
   },
   "id": "52c5298d6c5a1db4"
  }
 ],
 "metadata": {
  "kernelspec": {
   "display_name": "Python 3",
   "language": "python",
   "name": "python3"
  },
  "language_info": {
   "codemirror_mode": {
    "name": "ipython",
    "version": 2
   },
   "file_extension": ".py",
   "mimetype": "text/x-python",
   "name": "python",
   "nbconvert_exporter": "python",
   "pygments_lexer": "ipython2",
   "version": "2.7.6"
  }
 },
 "nbformat": 4,
 "nbformat_minor": 5
}
